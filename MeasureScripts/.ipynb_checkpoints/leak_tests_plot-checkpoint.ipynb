{
 "cells": [
  {
   "cell_type": "code",
   "execution_count": 1,
   "metadata": {
    "collapsed": false
   },
   "outputs": [],
   "source": [
    "import numpy as np\n",
    "import pandas as pd\n",
    "import matplotlib.pyplot as plt\n",
    "import glob, os\n",
    "\n",
    "\n",
    "#%matplotlib inline\n"
   ]
  },
  {
   "cell_type": "code",
   "execution_count": null,
   "metadata": {
    "collapsed": false
   },
   "outputs": [],
   "source": [
    "#Old_precursor_40_cycles\n",
    "path = 'K:\\\\katsagrp\\\\Measurement\\\\Josip\\\\Oxide_leakage_test_S228\\\\40_cycles\\\\2018-09-24\\\\'\n",
    "trace_dict = {\"200x200nm\": [\"#001_1-24_15-40-58\",\"#002_1-24_15-45-03\"],\n",
    "              \"300x300nm\": [\"#003_2-24_15-57-50\",\"#018_2-24_17-11-59\"],\n",
    "              \"500x500nm\": [\"#019_3-23_17-15-55\",\"#023_10-14_17-38-25\",\"#021_6-8_17-33-24\"],\n",
    "              \"1000x1000nm\": [\"#022_5-9_17-36-00\"],\n",
    "              \"1000x7000nm\": [\"#020_4-23_17-18-13\",\"#025_15-22_17-43-25\",\"#026_16-21_17-45-31\",\"#027_16-21_17-46-25\"]\n",
    "              }\n",
    "\n",
    "color_dict = {\"100x100nm\": 'b',\n",
    "             \"200x200nm\": 'g',\n",
    "             \"300x300nm\": 'r',\n",
    "             \"500x500nm\": 'c',\n",
    "             \"1000x1000nm\": 'm',\n",
    "             \"1000x7000nm\": 'k'\n",
    "             }\n"
   ]
  },
  {
   "cell_type": "code",
   "execution_count": null,
   "metadata": {
    "collapsed": false
   },
   "outputs": [],
   "source": [
    "#Old_precursor_80_cycles\n",
    "path = 'K:\\\\katsagrp\\\\Measurement\\\\Josip\\\\Oxide_leakage_test_S228\\\\80_cycles\\\\2018-09-25\\\\'\n",
    "trace_dict = {\"100x100nm\": [\"#002_1-24_17-40-26\",\"#003_1-24_17-43-25\",\"#004_18-17_17-53-31\",\"#005_18-17_17-54-58\",\"#006_12-11_17-57-19\",\"#007_12-11_17-59-52\",\"#008_7-6_18-06-43\",\"#009_7-6_18-10-33\"],\n",
    "              \"200x200nm\": [\"#010_16-19_18-14-39\",\"#011_05-08_18-19-39\"],\n",
    "              \"300x300nm\": [\"#012_15-20_18-22-58\",\"#013_02-23_18-25-35\"],\n",
    "              \"500x500nm\": [\"#015_21-14_18-31-56\",\"#016_4-9_18-36-24\"],\n",
    "              \"1000x1000nm\": [\"#027_13-22_19-33-52\",\"#028_3-10_19-36-43\"]  \n",
    "              }\n",
    "\n",
    "color_dict = {\"100x100nm\": 'b',\n",
    "             \"200x200nm\": 'g',\n",
    "             \"300x300nm\": 'r',\n",
    "             \"500x500nm\": 'c',\n",
    "             \"1000x1000nm\": 'm',\n",
    "             }\n"
   ]
  },
  {
   "cell_type": "code",
   "execution_count": null,
   "metadata": {
    "collapsed": false
   },
   "outputs": [],
   "source": [
    "#New_precursor_40_cycles_20181001\n",
    "path = 'K:\\\\katsagrp\\\\Measurement\\\\Josip\\\\Oxide_leakage_test_S228\\\\40_cycles_new_precursor\\\\2018-10-01\\\\'\n",
    "trace_dict = {\"200x200nm\": [\"#002_1-24_21-09-01\",\"#003_1-24_21-10-38\",\"#004_18-19_21-13-11\",\"#006_18-19_21-16-16\",\"#007_12-13_21-22-16\",\"#009_12-13_21-27-32\"],\n",
    "              \"300x300nm\": [\"#010_5-8_21-31-02\",\"#011_5-8_21-33-56\"],\n",
    "              \n",
    "              }\n",
    "\n",
    "color_dict = {\"100x100nm\": 'b',\n",
    "             \"200x200nm\": 'g',\n",
    "             \"300x300nm\": 'r',\n",
    "             \"500x500nm\": 'c',\n",
    "             \"1000x1000nm\": 'm',\n",
    "             }\n"
   ]
  },
  {
   "cell_type": "code",
   "execution_count": null,
   "metadata": {
    "collapsed": false
   },
   "outputs": [],
   "source": [
    "#New_precursor_40_cycles_20181002\n",
    "path = 'K:\\\\katsagrp\\\\Measurement\\\\Josip\\\\Oxide_leakage_test_S228\\\\40_cycles_new_precursor\\\\2018-10-02\\\\'\n",
    "trace_dict = {\"200x200nm\": ['#001_6-7_09-45-53','#002_6-7_09-48-19'],\n",
    "              \"300x300nm\": ['#003_2-23_09-50-58','#004_2-23_09-52-17','#005_17-20_09-54-59','#006_17-20_09-59-17','#007_11-14_10-02-32','#009_11-14_10-18-14'],\n",
    "              \"500x500nm\": ['#010_3-22_10-21-27','#011_3-22_10-23-02','#012_10-15_10-24-50'],\n",
    "              \"1000x1000nm\": ['#014_9-16_10-29-01','#015_9-16_10-30-30','#016_4-21_10-32-00','#017_4-21_10-33-31']  \n",
    "              }\n",
    "\n",
    "color_dict = {\"100x100nm\": 'b',\n",
    "             \"200x200nm\": 'g',\n",
    "             \"300x300nm\": 'r',\n",
    "             \"500x500nm\": 'c',\n",
    "             \"1000x1000nm\": 'm',\n",
    "             }\n"
   ]
  },
  {
   "cell_type": "code",
   "execution_count": null,
   "metadata": {
    "collapsed": false
   },
   "outputs": [],
   "source": [
    "#New_precursor_80_cycles\n",
    "path = 'K:\\\\katsagrp\\\\Measurement\\\\Josip\\\\Oxide_leakage_test_S228\\\\80_cycles_new_precursor\\\\2018-10-02\\\\'\n",
    "trace_dict = {\"100x100nm\": ['#001_12-13_17-06-21','#002_12-13_17-09-07','#003_6-7_17-11-10','#004_6-7_17-13-30'],\n",
    "              \"200x200nm\": ['#005_5-8_17-16-26','#006_5-8_17-18-01','#008_11-14_17-21-57','#009_11-14_17-24-37','#010_18-19_17-27-26','#011_18-19_17-28-33','#013_1-24_17-33-29','#014_1-24_17-36-19'],\n",
    "              \"300x300nm\": ['#015_15-10_17-42-21','#016_15-10_17-43-57','#017_17-20_17-46-01','#018_17-20_17-46-59','#019_2-23_17-48-47','#020_2-23_17-50-00'],\n",
    "              \"500x500nm\": ['#021_3-22_17-53-04','#024_3-22_17-56-56','#025_16-9_17-59-57','#026_16-9_18-01-21'],\n",
    "              \"1000x1000nm\": ['#027_4-21_18-04-02','#028_4-21_18-05-18']  \n",
    "              }\n",
    "\n",
    "color_dict = {\"100x100nm\": 'b',\n",
    "             \"200x200nm\": 'g',\n",
    "             \"300x300nm\": 'r',\n",
    "             \"500x500nm\": 'c',\n",
    "             \"1000x1000nm\": 'm',\n",
    "             }\n"
   ]
  },
  {
   "cell_type": "code",
   "execution_count": 2,
   "metadata": {
    "collapsed": false
   },
   "outputs": [],
   "source": [
    "#Current through the substrate_bonding_pads_close\n",
    "path1 = 'K:\\\\katsagrp\\\\Measurement\\\\Josip\\\\Oxide_leakage_test_S228\\\\40_cycles_new_precursor\\\\2018-10-02\\\\#018_5-6_10-38-06\\\\'\n",
    "path2 = 'K:\\\\katsagrp\\\\Measurement\\\\Josip\\\\Oxide_leakage_test_S228\\\\80_cycles_new_precursor\\\\2018-10-02\\\\#029_13-14_18-25-34\\\\'\n",
    "path3 = 'K:\\\\katsagrp\\\\Measurement\\\\Josip\\\\Oxide_leakage_test_S228\\\\40_cycles\\\\2018-09-24\\\\#012_5-6_first_layer_16-40-58\\\\'\n",
    "path4 = 'K:\\\\katsagrp\\\\Measurement\\\\Josip\\\\Oxide_leakage_test_S228\\\\80_cycles\\\\2018-09-25\\\\#017_14-15_18-38-11'\n",
    "\n",
    "trace_dict = {\"New_precursor_40_cycles\": path1,\n",
    "             \"New_precursor_80_cycles\": path2,\n",
    "             \"Old_precursor_40_cycles\": path3,\n",
    "             \"Old_precursor_80_cycles\": path4\n",
    "              }\n",
    "\n",
    "color_dict = {\"New_precursor_40_cycles\": 'b',\n",
    "             \"New_precursor_80_cycles\": 'g',\n",
    "             \"Old_precursor_40_cycles\": 'r',\n",
    "             \"Old_precursor_80_cycles\": 'c'\n",
    "             }\n"
   ]
  },
  {
   "cell_type": "code",
   "execution_count": 2,
   "metadata": {
    "collapsed": false
   },
   "outputs": [],
   "source": [
    "#Current through the substrate_bonding_pads_far_away\n",
    "path1 = 'K:\\\\katsagrp\\\\Measurement\\\\Josip\\\\Oxide_leakage_test_S228\\\\40_cycles_new_precursor\\\\2018-10-02\\\\#021_6-18_10-45-52\\\\'\n",
    "path2 = 'K:\\\\katsagrp\\\\Measurement\\\\Josip\\\\Oxide_leakage_test_S228\\\\80_cycles_new_precursor\\\\2018-10-02\\\\#030_13-18_18-35-44'\n",
    "path3 = 'K:\\\\katsagrp\\\\Measurement\\\\Josip\\\\Oxide_leakage_test_S228\\\\40_cycles\\\\2018-09-24\\\\#005_3-6_first_layer_16-18-36'\n",
    "path4 = 'K:\\\\katsagrp\\\\Measurement\\\\Josip\\\\Oxide_leakage_test_S228\\\\80_cycles\\\\2018-09-25\\\\#024_1-12_19-14-21'\n",
    "\n",
    "trace_dict = {\"New_precursor_40_cycles\": path1,\n",
    "             \"New_precursor_80_cycles\": path2,\n",
    "             \"Old_precursor_40_cycles\": path3,\n",
    "             \"Old_precursor_80_cycles\": path4\n",
    "              }\n",
    "\n",
    "color_dict = {\"New_precursor_40_cycles\": 'b',\n",
    "             \"New_precursor_80_cycles\": 'g',\n",
    "             \"Old_precursor_40_cycles\": 'r',\n",
    "             \"Old_precursor_80_cycles\": 'c'\n",
    "             }\n"
   ]
  },
  {
   "cell_type": "code",
   "execution_count": null,
   "metadata": {
    "collapsed": false
   },
   "outputs": [],
   "source": [
    "for key, value in trace_dict.iteritems():\n",
    "    print key, value"
   ]
  },
  {
   "cell_type": "code",
   "execution_count": null,
   "metadata": {
    "collapsed": false
   },
   "outputs": [],
   "source": [
    "# For plotting leakage current through the OVERLAPS\n",
    "for key, value in trace_dict.iteritems():\n",
    "    for i,val in enumerate(value): \n",
    "        for file in glob.glob(path+val+\"\\\\dac_dac1_set.dat\"):\n",
    "            path_I = file\n",
    "      \n",
    "            data = pd.read_csv(path_I, sep = '\\t',skiprows = 3, header = None)\n",
    "            I = data[1]*1e12 # For pA\n",
    "            V = data[0]\n",
    "            if i==0:\n",
    "                plt.plot(V,abs(I),color_dict[key],label=key)\n",
    "            else:\n",
    "                plt.plot(V,abs(I),color_dict[key], label='_nolegend_')\n",
    "    \n",
    "\n",
    "        \n",
    "               \n",
    "    \n",
    "    \n",
    "\n"
   ]
  },
  {
   "cell_type": "code",
   "execution_count": 3,
   "metadata": {
    "collapsed": false
   },
   "outputs": [],
   "source": [
    "# For plotting leakage current through the SUBSTRATE\n",
    "for key, value in trace_dict.iteritems():\n",
    "        for file in glob.glob(value+\"\\\\dac_dac1_set.dat\"):\n",
    "            path_I = file\n",
    "      \n",
    "            data = pd.read_csv(path_I, sep = '\\t',skiprows = 3, header = None)\n",
    "            I = data[1]*1e12 # For pA\n",
    "            V = data[0]\n",
    "            plt.plot(V,abs(I),color_dict[key],label=key)\n",
    "\n",
    "    \n",
    "\n",
    "        \n",
    "               \n",
    "    \n",
    "    \n",
    "\n"
   ]
  },
  {
   "cell_type": "code",
   "execution_count": null,
   "metadata": {
    "collapsed": false
   },
   "outputs": [],
   "source": [
    "# For plotting leakage current through the OVERLAPS\n",
    "#plt.plot(V,I,label=label)\n",
    "plt.legend()\n",
    "plt.hold()\n",
    "#plt.title(\"Old_precursor_80_cycles\")\n",
    "plt.title('New_precursor_40_cycles  \\nPolarity differs. From the \"gate\" perspective they leak mostly on negative voltages.')\n",
    "plt.xlabel('Voltage (mV)')\n",
    "plt.ylabel('Current (pA)')\n",
    "plt.rcParams.update({'font.size': 22})\n",
    "plt.show()"
   ]
  },
  {
   "cell_type": "code",
   "execution_count": 4,
   "metadata": {
    "collapsed": false
   },
   "outputs": [],
   "source": [
    "# For plotting leakage current through the SUBSTRATE\n",
    "#plt.plot(V,I,label=label)\n",
    "plt.legend()\n",
    "plt.hold()\n",
    "plt.title('Current through the substrate between the two faraway bonding pads')\n",
    "plt.xlabel('Voltage (mV)')\n",
    "plt.ylabel('Current (pA)')\n",
    "plt.rcParams.update({'font.size': 22})\n",
    "plt.show()"
   ]
  },
  {
   "cell_type": "code",
   "execution_count": null,
   "metadata": {
    "collapsed": true
   },
   "outputs": [],
   "source": []
  }
 ],
 "metadata": {
  "anaconda-cloud": {},
  "kernelspec": {
   "display_name": "Python 2",
   "language": "python",
   "name": "python2"
  },
  "language_info": {
   "codemirror_mode": {
    "name": "ipython",
    "version": 2
   },
   "file_extension": ".py",
   "mimetype": "text/x-python",
   "name": "python",
   "nbconvert_exporter": "python",
   "pygments_lexer": "ipython2",
   "version": "2.7.10"
  }
 },
 "nbformat": 4,
 "nbformat_minor": 1
}
