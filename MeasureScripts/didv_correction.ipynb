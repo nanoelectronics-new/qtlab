{
 "cells": [
  {
   "cell_type": "code",
   "execution_count": 140,
   "metadata": {
    "collapsed": false
   },
   "outputs": [],
   "source": [
    "import numpy as np\n",
    "import pandas as pd\n",
    "import matplotlib.pyplot as plt\n",
    "import glob, os\n",
    "\n",
    "\n",
    "%matplotlib inline"
   ]
  },
  {
   "cell_type": "code",
   "execution_count": 141,
   "metadata": {
    "collapsed": false
   },
   "outputs": [],
   "source": [
    "path_current = 'K:\\\\katsagrp\\\\Measurement\\\\Jason\\\\20180325\\\\161734_I_S17_22-24'  \n",
    "path_lockin = 'K:\\\\katsagrp\\\\Measurement\\\\Jason\\\\20180325\\\\161734_DI_S17_22-24'"
   ]
  },
  {
   "cell_type": "code",
   "execution_count": 142,
   "metadata": {
    "collapsed": false
   },
   "outputs": [],
   "source": [
    "for file in glob.glob(path_current+\"\\\\*.dat\"):\n",
    "    path_I = file\n",
    "    \n",
    "for file in glob.glob(path_current+\"\\\\*.dat_matrix\"):\n",
    "    path_I_matrix = file\n",
    "    \n",
    "for file in glob.glob(path_lockin+\"\\\\*.dat\"):\n",
    "    path_lock = file\n",
    "    \n",
    "for file in glob.glob(path_lockin+\"\\\\*.dat_matrix\"):\n",
    "    path_lockin_matrix = file\n",
    "    \n",
    "\n",
    "current = pd.read_csv(path_I, sep = '\\t',skiprows = 15, header = None)\n",
    "lockin = pd.read_csv(path_lock, sep = '\\t',skiprows = 15, header = None)\n",
    "I_matrix = np.loadtxt(path_I_matrix)\n",
    "lockin_matrix = np.loadtxt(path_lockin_matrix)\n"
   ]
  },
  {
   "cell_type": "code",
   "execution_count": 143,
   "metadata": {
    "collapsed": false
   },
   "outputs": [],
   "source": [
    "bias_div_factor = 1000.0  # 1.0 if it is taken into account already, otherwise proper factor need to be put\n",
    "Vb = current[0]/bias_div_factor  # mV\n",
    "I = current[2]  # pA \n",
    "dI = lockin[2]  # pA"
   ]
  },
  {
   "cell_type": "code",
   "execution_count": 144,
   "metadata": {
    "collapsed": false
   },
   "outputs": [],
   "source": [
    "dV = 10 # excitation in uV"
   ]
  },
  {
   "cell_type": "code",
   "execution_count": 145,
   "metadata": {
    "collapsed": true
   },
   "outputs": [],
   "source": [
    "# Correct the Vbias axis\n",
    "Rtot = 52.3 #kohm\n",
    "correction_factor = Rtot*1e-6  #for mV\n",
    "Vbcorr = Vb - correction_factor*I"
   ]
  },
  {
   "cell_type": "code",
   "execution_count": 146,
   "metadata": {
    "collapsed": false
   },
   "outputs": [
    {
     "name": "stdout",
     "output_type": "stream",
     "text": [
      "[[ nan  nan  nan ...,  nan  nan  nan]\n",
      " [ nan  nan  nan ...,  nan  nan  nan]\n",
      " [ nan  nan  nan ...,  nan  nan  nan]\n",
      " ..., \n",
      " [ nan  nan  nan ...,  nan  nan  nan]\n",
      " [ nan  nan  nan ...,  nan  nan  nan]\n",
      " [ nan  nan  nan ...,  nan  nan  nan]]\n"
     ]
    }
   ],
   "source": [
    "#interpolation\n",
    "num_rows = len(I_matrix[:,1])\n",
    "num_cols = len(I_matrix[1,:])\n",
    "Icorr = np.zeros((num_rows, num_cols))\n",
    "for i in xrange(num_cols):\n",
    "    Icorr[:,i] = np.interp(Vb[(i*num_rows):((i+1)*num_rows)],Vbcorr[(i*num_rows):((i+1)*num_rows)],I_matrix[:,i])\n",
    "    Vb_temp = Vb[(i*num_rows):((i+1)*num_rows)]\n",
    "    Vbcorr_temp = Vbcorr[(i*num_rows):((i+1)*num_rows)]\n",
    "    for j in xrange(len(Vb_temp)): # Kicking out all current values out of Vbcorr\n",
    "        if abs(Vb_temp[i*num_rows+j]) > abs(Vbcorr_temp[i*num_rows+len(Vbcorr_temp)-1]):\n",
    "            Icorr[j,i] = float('NaN')\n",
    "print Icorr\n",
    "\n"
   ]
  },
  {
   "cell_type": "code",
   "execution_count": 147,
   "metadata": {
    "collapsed": false,
    "scrolled": false
   },
   "outputs": [
    {
     "data": {
      "text/plain": [
       "<matplotlib.legend.Legend at 0xce61fb0>"
      ]
     },
     "execution_count": 147,
     "metadata": {},
     "output_type": "execute_result"
    },
    {
     "data": {
      "image/png": "[encoded data removed]",
      "text/plain": [
       "<matplotlib.figure.Figure at 0xcc6d670>"
      ]
     },
     "metadata": {},
     "output_type": "display_data"
    }
   ],
   "source": [
    "y = I_matrix[:,1]\n",
    "Vbcorr1 = Vbcorr[0:num_rows]\n",
    "Vb1 = Vb[0:num_rows]\n",
    "plt.plot(Vb1,y,'g')\n",
    "plt.plot(Vb1,Icorr[:,1],'ro')\n",
    "plt.legend(['original','corrected'])\n"
   ]
  },
  {
   "cell_type": "code",
   "execution_count": 148,
   "metadata": {
    "collapsed": true
   },
   "outputs": [],
   "source": [
    "np.savetxt(path_I_matrix+'_corrected',Icorr) # Saving the corrected current file"
   ]
  },
  {
   "cell_type": "code",
   "execution_count": 149,
   "metadata": {
    "collapsed": false,
    "scrolled": true
   },
   "outputs": [],
   "source": [
    "#interpolation now for differential conductance\n",
    "dIcorr = np.zeros((num_rows, num_cols))\n",
    "for i in xrange(num_cols):\n",
    "    dIcorr[:,i] = np.interp(Vb[(i*num_rows):((i+1)*num_rows)],Vbcorr[(i*num_rows):((i+1)*num_rows)],lockin_matrix[:,i])\n",
    "    Vb_temp = Vb[(i*num_rows):((i+1)*num_rows)]\n",
    "    Vbcorr_temp = Vbcorr[(i*num_rows):((i+1)*num_rows)]\n",
    "    for j in xrange(len(Vb_temp)):\n",
    "        if abs(Vb_temp[i*num_rows+j]) > abs(Vbcorr_temp[i*num_rows+len(Vbcorr_temp)-1]):\n",
    "            dIcorr[j,i] = float('NaN')"
   ]
  },
  {
   "cell_type": "code",
   "execution_count": 150,
   "metadata": {
    "collapsed": false,
    "scrolled": true
   },
   "outputs": [
    {
     "data": {
      "text/plain": [
       "<matplotlib.legend.Legend at 0xd9d4b90>"
      ]
     },
     "execution_count": 150,
     "metadata": {},
     "output_type": "execute_result"
    },
    {
     "data": {
      "image/png": "[encoded data removed]",
      "text/plain": [
       "<matplotlib.figure.Figure at 0xd333910>"
      ]
     },
     "metadata": {},
     "output_type": "display_data"
    }
   ],
   "source": [
    "y = lockin_matrix[:,20]\n",
    "plt.plot(Vb1,y,'g')\n",
    "plt.plot(Vb1,dIcorr[:,20],'ro')\n",
    "plt.legend(['original','corrected'])"
   ]
  },
  {
   "cell_type": "code",
   "execution_count": 151,
   "metadata": {
    "collapsed": true
   },
   "outputs": [],
   "source": [
    "np.savetxt(path_lockin_matrix+'_corrected',dIcorr)  # Saving the corrected lockin file"
   ]
  },
  {
   "cell_type": "code",
   "execution_count": 159,
   "metadata": {
    "collapsed": false
   },
   "outputs": [],
   "source": [
    "# Correcting the value of the excitation voltage dV to the effective one (the one seen by the device)\n",
    "dVcorr = dV - correction_factor*dIcorr  # Corrected value of the excitation\n",
    "dIcorr_over_dVcorr = dIcorr/dVcorr      # Corrected conductance\n",
    "dI_over_dV = lockin_matrix/dV              # Non corrected conductance for the comparison\n"
   ]
  },
  {
   "cell_type": "code",
   "execution_count": 160,
   "metadata": {
    "collapsed": false
   },
   "outputs": [
    {
     "data": {
      "text/plain": [
       "<matplotlib.legend.Legend at 0xb5c1b70>"
      ]
     },
     "execution_count": 160,
     "metadata": {},
     "output_type": "execute_result"
    },
    {
     "data": {
      "image/png": "[encoded data removed]",
      "text/plain": [
       "<matplotlib.figure.Figure at 0x1074d7f0>"
      ]
     },
     "metadata": {},
     "output_type": "display_data"
    }
   ],
   "source": [
    "plt.plot(Vb1,dIcorr_over_dV[:,20],'g')\n",
    "plt.plot(Vb1,dIcorr_over_dVcorr[:,20],'ro')\n",
    "plt.legend(['original','corrected'])"
   ]
  },
  {
   "cell_type": "code",
   "execution_count": 163,
   "metadata": {
    "collapsed": false
   },
   "outputs": [],
   "source": [
    "point_index = path_lockin_matrix.index('.')   # Finding the starting index of \".dat_matrix\" part of the string\n",
    "path_lockin_matrix[:-point_index]             # Getting rid of the \".dat_matrix\" part of the string\n",
    "np.savetxt(path_lockin_matrix[:point_index]+'_dI_over_dV'+'_NOT_corrected',dI_over_dV)  # Saving the non corracted conductance (dIcorr_over_dV)\n",
    "np.savetxt(path_lockin_matrix[:point_index]+'_dI_over_dV'+'_corrected',dIcorr_over_dVcorr)  # Saving the non corracted conductance (dIcorr_over_dV)"
   ]
  },
  {
   "cell_type": "code",
   "execution_count": null,
   "metadata": {
    "collapsed": true
   },
   "outputs": [],
   "source": []
  }
 ],
 "metadata": {
  "anaconda-cloud": {},
  "kernelspec": {
   "display_name": "Python 2",
   "language": "python",
   "name": "python2"
  },
  "language_info": {
   "codemirror_mode": {
    "name": "ipython",
    "version": 2
   },
   "file_extension": ".py",
   "mimetype": "text/x-python",
   "name": "python",
   "nbconvert_exporter": "python",
   "pygments_lexer": "ipython2",
   "version": "2.7.10"
  }
 },
 "nbformat": 4,
 "nbformat_minor": 1
}
