{
 "cells": [
  {
   "cell_type": "code",
   "execution_count": 29,
   "metadata": {
    "collapsed": true
   },
   "outputs": [],
   "source": [
    "import numpy as np\n",
    "import pandas as pd\n",
    "import matplotlib.pyplot as plt\n",
    "import glob, os\n",
    "\n",
    "%matplotlib inline"
   ]
  },
  {
   "cell_type": "code",
   "execution_count": 30,
   "metadata": {
    "collapsed": true
   },
   "outputs": [],
   "source": [
    "path_current1 = 'D:\\\\Measurements\\\\Josip\\\\20170926\\\\210552_ GvsG_22-03-G04_G21'\n",
    "path_current2 = 'D:\\\\Measurements\\\\Josip\\\\20170926\\\\210552_ GvsG_23-24-G21_G04'"
   ]
  },
  {
   "cell_type": "code",
   "execution_count": 31,
   "metadata": {
    "collapsed": false
   },
   "outputs": [],
   "source": [
    "for file in glob.glob(path_current1+\"\\\\*.dat_matrix\"):\n",
    "    path_I_matrix1 = file\n",
    "\n",
    "\n",
    "I_matrix1 = np.loadtxt(path_I_matrix1)\n",
    "\n",
    "for file in glob.glob(path_current2+\"\\\\*.dat_matrix\"):\n",
    "    path_I_matrix2 = file\n",
    "\n",
    "\n",
    "I_matrix2 = np.loadtxt(path_I_matrix2)\n",
    "\n",
    "\n"
   ]
  },
  {
   "cell_type": "code",
   "execution_count": 32,
   "metadata": {
    "collapsed": true
   },
   "outputs": [],
   "source": [
    "I_matrix3 =  I_matrix1+I_matrix2"
   ]
  },
  {
   "cell_type": "code",
   "execution_count": 33,
   "metadata": {
    "collapsed": true
   },
   "outputs": [],
   "source": [
    "np.savetxt(path_I_matrix2+'_overlayed',I_matrix3)"
   ]
  },
  {
   "cell_type": "code",
   "execution_count": null,
   "metadata": {
    "collapsed": true
   },
   "outputs": [],
   "source": []
  }
 ],
 "metadata": {
  "kernelspec": {
   "display_name": "Python 2",
   "language": "python",
   "name": "python2"
  },
  "language_info": {
   "codemirror_mode": {
    "name": "ipython",
    "version": 2
   },
   "file_extension": ".py",
   "mimetype": "text/x-python",
   "name": "python",
   "nbconvert_exporter": "python",
   "pygments_lexer": "ipython2",
   "version": "2.7.10"
  }
 },
 "nbformat": 4,
 "nbformat_minor": 0
}
